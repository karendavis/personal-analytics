{
 "cells": [
  {
   "cell_type": "code",
   "execution_count": null,
   "id": "0",
   "metadata": {},
   "outputs": [],
   "source": [
    "import pandas as pd\n",
    "import numpy as np\n",
    "from datetime import date\n",
    "import seaborn as sns \n",
    "import matplotlib.pyplot as plt \n",
    "from time import strptime\n",
    "from datetime import datetime\n",
    "from dateutil.relativedelta import relativedelta\n",
    "import warnings; warnings.simplefilter('ignore')"
   ]
  },
  {
   "cell_type": "markdown",
   "id": "1",
   "metadata": {},
   "source": [
    "### Ingesting the data\n",
    "Assumes the data is being read from a screen_time_data.csv file that is in a data folder under the top level project"
   ]
  },
  {
   "cell_type": "code",
   "execution_count": null,
   "id": "2",
   "metadata": {},
   "outputs": [],
   "source": [
    "df = pd.read_csv('.././data/screen_time_data.csv')"
   ]
  },
  {
   "cell_type": "code",
   "execution_count": null,
   "id": "3",
   "metadata": {},
   "outputs": [],
   "source": [
    "df.info()"
   ]
  },
  {
   "cell_type": "code",
   "execution_count": null,
   "id": "4",
   "metadata": {},
   "outputs": [],
   "source": [
    "month_map = {\n",
    "'January':1,\n",
    "'Jan':1,\n",
    "'February':2,\n",
    "'Feb':2,\n",
    "'March':3,\n",
    "'Mar':3,\n",
    "'April':4,\n",
    "'Apr':4,\n",
    "'May':5,\n",
    "'June':6,\n",
    "'Jun':6,\n",
    "'July':7,\n",
    "'Jul':7,\n",
    "'August':8,\n",
    "'Aug':8,\n",
    "'September':9,\n",
    "'Sep':9,\n",
    "'October':10,\n",
    "'Oct':10,\n",
    "'November':11,\n",
    "'Nov':11,\n",
    "'December':12,\n",
    "'Dec':12,\n",
    "}\n"
   ]
  },
  {
   "cell_type": "markdown",
   "id": "5",
   "metadata": {},
   "source": [
    "### Transforming the data in preparation for visualisation"
   ]
  },
  {
   "cell_type": "code",
   "execution_count": null,
   "id": "6",
   "metadata": {},
   "outputs": [],
   "source": [
    "\n",
    "# Create a date field\n",
    "df['date'] = pd.to_datetime(dict(year=df.year, month=df.month.apply(lambda x: month_map[x]), day=df.day))\n",
    "# Add week day\n",
    "df['day_of_week'] = df['date'].dt.day_name()\n",
    "# Sort the dataframe and remove duplicates by keeping the last row for a date\n",
    "df.sort_values([\"date\"], ascending=True, inplace=True)\n",
    "df.drop_duplicates(subset='date', keep=\"last\", inplace=True)\n",
    "df['day_of_week'] = df['date'].dt.day_name()\n",
    "df['short_day_of_week'] = df['day_of_week'].apply(lambda x: x[0:3])"
   ]
  },
  {
   "cell_type": "code",
   "execution_count": null,
   "id": "7",
   "metadata": {},
   "outputs": [],
   "source": [
    "df['total_time'] = df.apply(lambda row: round((row.total_hour * 60) + row.total_min, 1), axis=1)"
   ]
  },
  {
   "cell_type": "code",
   "execution_count": null,
   "id": "8",
   "metadata": {},
   "outputs": [],
   "source": [
    "def convert_mins_to_hrs_and_mins_string(total_minutes:int)->str:\n",
    "    hours = int(total_minutes/60)\n",
    "    minutes = int(total_minutes) if hours == 0 else int(total_minutes % hours)\n",
    "    return f\"{hours}h {minutes}m\"  "
   ]
  },
  {
   "cell_type": "code",
   "execution_count": null,
   "id": "9",
   "metadata": {},
   "outputs": [],
   "source": [
    " %matplotlib inline\n",
    "# Create a figure with a specific size\n",
    "# plt.figure(figsize=(5, 10))\n",
    "plt.rcParams['figure.figsize']=(12, 8)\n",
    "sns.set_style(\"darkgrid\")"
   ]
  },
  {
   "cell_type": "code",
   "execution_count": null,
   "id": "10",
   "metadata": {},
   "outputs": [],
   "source": [
    "total_time_on_phone = convert_mins_to_hrs_and_mins_string(df['total_time'].sum())\n",
    "print(f\"Total time spent on phone : {total_time_on_phone}\")"
   ]
  },
  {
   "cell_type": "code",
   "execution_count": null,
   "id": "11",
   "metadata": {},
   "outputs": [],
   "source": [
    "df['total_time'].describe()"
   ]
  },
  {
   "cell_type": "code",
   "execution_count": null,
   "id": "12",
   "metadata": {},
   "outputs": [],
   "source": [
    "day_order =  [\"Monday\", \"Tuesday\", \"Wednesday\", \"Thursday\", \"Friday\", \"Saturday\", \"Sunday\"]\n",
    "short_day_order =  [\"Mon\", \"Tue\", \"Wed\", \"Thu\", \"Fri\", \"Sat\", \"Sun\"]"
   ]
  },
  {
   "cell_type": "code",
   "execution_count": null,
   "id": "13",
   "metadata": {},
   "outputs": [],
   "source": [
    "monthly_day_average = df[['year','month', 'short_day_of_week', 'total_time']].groupby(['year','month', 'short_day_of_week']).mean()"
   ]
  },
  {
   "cell_type": "code",
   "execution_count": null,
   "id": "14",
   "metadata": {},
   "outputs": [],
   "source": [
    "def get_this_month_and_year() -> (str, int):\n",
    "    current_month = datetime.now().strftime('%B')\n",
    "    current_year = int(datetime.now().strftime('%Y'))\n",
    "    return current_month, current_year\n",
    "\n",
    "print(get_this_month_and_year())"
   ]
  },
  {
   "cell_type": "code",
   "execution_count": null,
   "id": "15",
   "metadata": {},
   "outputs": [],
   "source": [
    "this_month, year = get_this_month_and_year()\n",
    "last_month =  (datetime.now() - relativedelta(months=1)).strftime('%B')"
   ]
  },
  {
   "cell_type": "code",
   "execution_count": null,
   "id": "16",
   "metadata": {},
   "outputs": [],
   "source": [
    "this_month_data = monthly_day_average.loc(axis=0)[year, this_month].reset_index().round(0)\n",
    "last_month_data = monthly_day_average.loc(axis=0)[year, last_month].reset_index().round(0)\n",
    "year_to_date_data = monthly_day_average.loc(axis=0)[2024].reset_index().round(0)"
   ]
  },
  {
   "cell_type": "code",
   "execution_count": null,
   "id": "17",
   "metadata": {},
   "outputs": [],
   "source": [
    "daily_averages = [year_to_date_data['total_time'].mean().round(0), this_month_data['total_time'].mean().round(0), last_month_data['total_time'].mean().round(0)]"
   ]
  },
  {
   "cell_type": "markdown",
   "id": "18",
   "metadata": {},
   "source": [
    "### Visualising the total time spent on phone"
   ]
  },
  {
   "cell_type": "code",
   "execution_count": null,
   "id": "19",
   "metadata": {},
   "outputs": [],
   "source": [
    "plt.rcParams['figure.figsize']=(12, 8)\n",
    "fig, axs = plt.subplots(ncols=2, nrows=2)\n",
    "fig.subplots_adjust(hspace=0.3, wspace=.2)\n",
    "\n",
    "palette = sns.color_palette(\"mako\")\n",
    "colours = [palette[3] for x in range(5)] + [palette[5] for x in range(2)]\n",
    "\n",
    "axs[0,1].set(ylim=(0, 360))\n",
    "axs[1,0].set(ylim=(0, 360))\n",
    "axs[1,1].set(ylim=(0, 360))\n",
    "axs[0,1].set(xlabel='Day of week', ylabel='Time in minutes')\n",
    "axs[1,0].set(xlabel='Day of week', ylabel='Time in minutes')\n",
    "axs[1,1].set(xlabel='Day of week', ylabel='Time in minutes')\n",
    "axs[0,1].set_yticks([0, 60, 120, 180, 240, 300, 360])\n",
    "axs[1,0].set_yticks([0, 60, 120, 180, 240, 300, 360])\n",
    "axs[1,1].set_yticks([0, 60, 120, 180, 240, 300, 360])\n",
    "\n",
    "\n",
    "sns.barplot(data=year_to_date_data, x=\"short_day_of_week\", y=\"total_time\", ax=axs[1,0], order=short_day_order, palette=colours).set_title(f\"Year to date - daily average by day - {year}\")\n",
    "sns.barplot(data=this_month_data, x=\"short_day_of_week\", y=\"total_time\", ax=axs[0,1], order=short_day_order, palette=colours).set_title(f\"Daily average by day - {this_month}\")\n",
    "sns.barplot(data=last_month_data, x=\"short_day_of_week\", y=\"total_time\", ax=axs[1,1], order=short_day_order, palette=colours).set_title(f\"Daily average by day - {last_month}\")\n",
    "\n",
    "axs[0,0].set_axis_off()\n",
    "table = axs[0,0].table(cellText=[[f\"{str(int(x))} min\"] for x in daily_averages],\n",
    "                  rowLabels= [\"Year to date\", f\"This month - {this_month}\", f\"Last month - {last_month}\"],\n",
    "                  colLabels=['Daily average'],\n",
    "                  cellLoc='center',\n",
    "                  bbox=[0.5, 0.6, 0.4, 0.4],\n",
    ")\n",
    "\n",
    "\n",
    "table.auto_set_font_size(False)\n",
    "table.set_fontsize(12)"
   ]
  },
  {
   "cell_type": "markdown",
   "id": "20",
   "metadata": {},
   "source": [
    "### Prepare the data for application level visualisations"
   ]
  },
  {
   "cell_type": "code",
   "execution_count": null,
   "id": "21",
   "metadata": {},
   "outputs": [],
   "source": [
    "df['application_time_0'] = df.apply(lambda row: (row['application_hour_0'] * 60) + row['application_min_0'], axis=1)"
   ]
  },
  {
   "cell_type": "code",
   "execution_count": null,
   "id": "22",
   "metadata": {},
   "outputs": [],
   "source": [
    "df[['month', 'year', 'application_name_0', 'application_time_0']].groupby(['month', 'year', 'application_name_0']).sum()"
   ]
  },
  {
   "cell_type": "code",
   "execution_count": null,
   "id": "23",
   "metadata": {},
   "outputs": [],
   "source": [
    "def get_group_for_application_slot(data, app_index):\n",
    "    data[f\"application_time_{app_index}\"] = data.apply(lambda row: (row[f\"application_hour_{app_index}\"] * 60) + row[f\"application_min_{app_index}\"], axis=1)\n",
    "    group = df[['month', 'year', f\"application_name_{app_index}\", f\"application_time_{app_index}\"]].groupby(['month', 'year', f\"application_name_{app_index}\"]).sum()\n",
    "    group = group.reset_index().round(0)\n",
    "    return group.rename(columns={f\"application_name_{app_index}\": \"application_name\", f\"application_time_{app_index}\": \"application_time\"})"
   ]
  },
  {
   "cell_type": "code",
   "execution_count": null,
   "id": "24",
   "metadata": {},
   "outputs": [],
   "source": [
    "application_groups = list()\n",
    "\n",
    "for index in range (0,3):\n",
    "    application_groups.append(get_group_for_application_slot(data=df,app_index=index))\n",
    "    "
   ]
  },
  {
   "cell_type": "code",
   "execution_count": null,
   "id": "25",
   "metadata": {},
   "outputs": [],
   "source": [
    "app_df = pd.concat(application_groups)\n",
    "all_apps_grouped_month = app_df.groupby([\"month\", \"year\", \"application_name\"]).sum().reset_index()\n",
    "all_apps_grouped_year = app_df[[\"year\", \"application_name\", \"application_time\"]].groupby([\"year\", \"application_name\"]).sum().reset_index()"
   ]
  },
  {
   "cell_type": "code",
   "execution_count": null,
   "id": "26",
   "metadata": {},
   "outputs": [],
   "source": [
    "all_apps_grouped_year['app_hr_min'] = all_apps_grouped_year['application_time'].apply(lambda x: convert_mins_to_hrs_and_mins_string(x))\n",
    "all_apps_grouped_year.sort_values('application_time', ascending=False).head(20)"
   ]
  },
  {
   "cell_type": "code",
   "execution_count": null,
   "id": "27",
   "metadata": {},
   "outputs": [],
   "source": [
    "all_apps_grouped_month['app_hr_min'] = all_apps_grouped_month['application_time'].apply(lambda x: convert_mins_to_hrs_and_mins_string(x))\n",
    "all_apps_grouped_month.sort_values('application_time', ascending=False, inplace=True).head(20)"
   ]
  },
  {
   "cell_type": "code",
   "execution_count": null,
   "id": "28",
   "metadata": {},
   "outputs": [],
   "source": [
    "all_apps_grouped_month.query(f\"`year` == {year} & `month` == '{last_month}'\")"
   ]
  },
  {
   "cell_type": "code",
   "execution_count": null,
   "id": "29",
   "metadata": {},
   "outputs": [],
   "source": [
    "this_month_application_data = all_apps_grouped_month.query(f\"`year` == {year} & `month` == '{this_month}'\")\n",
    "last_month_application_data = all_apps_grouped_month.query(f\"`year` == {year} & `month` == '{last_month}'\")"
   ]
  },
  {
   "cell_type": "markdown",
   "id": "30",
   "metadata": {},
   "source": [
    "### Visualising time spent per application"
   ]
  },
  {
   "cell_type": "code",
   "execution_count": null,
   "id": "31",
   "metadata": {},
   "outputs": [],
   "source": [
    "plt.rcParams['figure.figsize']=(12, 8)\n",
    "fig, axs = plt.subplots(ncols=1, nrows=3)\n",
    "fig.subplots_adjust(hspace=0.5, wspace=.2)\n",
    "\n",
    "palette = sns.color_palette(\"mako\")\n",
    "colours = [palette[3] for x in range(5)] + [palette[5] for x in range(2)]\n",
    "\n",
    "axs[0].set(ylim=(0, 2800))\n",
    "axs[0].set(xlabel='Application', ylabel='Time in minutes')\n",
    "axs[1].set(xlabel='Application', ylabel='Time in minutes')\n",
    "sns.barplot(data=all_apps_grouped_year, x=\"application_name\", y=\"application_time\", ax=axs[0], palette=palette).set_title(f\"Year to date {year}\")\n",
    "sns.barplot(data=last_month_application_data, x=\"application_name\", y=\"application_time\", ax=axs[1], palette=palette).set_title(f\"Last month - {last_month}\")\n",
    "sns.barplot(data=this_month_application_data, x=\"application_name\", y=\"application_time\", ax=axs[2], palette=palette).set_title(f\"This month - {this_month}\")"
   ]
  },
  {
   "cell_type": "code",
   "execution_count": null,
   "id": "32",
   "metadata": {},
   "outputs": [],
   "source": []
  }
 ],
 "metadata": {
  "kernelspec": {
   "display_name": "personal_analytics",
   "language": "python",
   "name": "personal_analytics"
  },
  "language_info": {
   "codemirror_mode": {
    "name": "ipython",
    "version": 3
   },
   "file_extension": ".py",
   "mimetype": "text/x-python",
   "name": "python",
   "nbconvert_exporter": "python",
   "pygments_lexer": "ipython3",
   "version": "3.10.9"
  }
 },
 "nbformat": 4,
 "nbformat_minor": 5
}
